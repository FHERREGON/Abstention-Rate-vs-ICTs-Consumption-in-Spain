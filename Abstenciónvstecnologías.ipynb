{
 "cells": [
  {
   "cell_type": "markdown",
   "id": "loose-machinery",
   "metadata": {},
   "source": [
    "# Abstention Rate and New Information Technologies in Spain"
   ]
  },
  {
   "cell_type": "markdown",
   "id": "horizontal-intake",
   "metadata": {},
   "source": [
    "### *Analysing the relation between voter turnout in Spain’s presidential elections and the barrage of the New Information Technologies with Python*"
   ]
  },
  {
   "cell_type": "markdown",
   "id": "enclosed-conservative",
   "metadata": {},
   "source": [
    "There is no doubt, the rise and normalization of internet use has proved to become a second Golden Age for the information.\n",
    "\n",
    "By keystroking, either tactile or physical, we have access to a wide variety of media and social networks that allows us to be witnesses of real-time events around the world. It is clear that, nowadays, knowledge sources are broader and more extended than 30 years ago, so it can be reasonably assumed that the average citizen is more informed, but: Could we assume that he is better informed as well?\n",
    "\n",
    "In fact, both in statistical and journalistic terms, an overload of information has always tended to become what we know as “noise”. That’s why in this digital era we can find a little rise of the flat earth theories, more people reluctant to vaccines and, furthermore, we have been witnesses of how the social networks have resulted into a curious instrument of mobilization and politic polarization around the world.\n",
    "\n",
    "Therefore, in this internet overexposure outlook, it is appropriate to wonder how much extended is the influence of new technologies in the voter turnout. Are today’s citizens more or less apathetic regarding the democratic process? Does the access to multiple information sources involve an incentive effect when deciding to vote or not?\n",
    "\n",
    "In order to find a potential answer to these questions we are going to practice with Python, formatting and parsing some data tables from the INE (National Statistic Institute) , and we will also extract and analyse data by using the report “Marco General para los Medios” from the AIMC (Association for Media’s Research). If you’re not familiar with Python’s language, don’t panic, we will try to make simple and explained exercises which will allow you to easily locate yourself at every moment.\n",
    "Regarding the target of this analysis, we’ll mainly try to determinate if there is some kind of relation between the abstention rate and the amount of use and trust level in the new technologies as media.\n",
    "\n",
    "With this article we hope to provide the basis and open a gate for future data analysts that may use the principles of this survey to determinate what could influence the voter turnout in a country like Spain.\n",
    "We’ll divide the survey in 3 articles. In this one, we are going to analyse the voter turnout in Spain from 1979 to 2019, formatting a CSV file into a data frame and analysing and visualizing the given data. In the second one we are going to extract data from multiple sources and analyse the use and implementation of the new technologies in the country. Lastly, in the third one, we’re going to deploy some statistical models to analyse the correlation between the two variables and expose the conclusions.\n",
    "\n",
    "Let’s start!"
   ]
  },
  {
   "cell_type": "markdown",
   "id": "attached-tower",
   "metadata": {},
   "source": [
    "## Part I. Analysing the evolution of voter turnout in Spain’s presidential elections with Python:"
   ]
  },
  {
   "cell_type": "code",
   "execution_count": 1,
   "id": "micro-kuwait",
   "metadata": {},
   "outputs": [],
   "source": [
    "# We will use the following modules :\n",
    "\n",
    "import pandas as pd # We will use Pandas to operate with the dataframes\n",
    "pd.set_option('display.max_columns', None)\n",
    "pd.set_option('display.max_rows', None) \n",
    "\n",
    "import numpy as np # We will import Numpys in case of having to do some mathematical operations.\n",
    "\n",
    "import matplotlib.pyplot as plt # We will use Matplotlib and Seaborn to generate the different visualisation methods.\n",
    "import matplotlib as mpl\n",
    "\n",
    "import seaborn as sns \n",
    "\n",
    "from sklearn.preprocessing import StandardScaler,PolynomialFeatures # In order to make the statistical analysis.\n",
    "from sklearn.linear_model import LinearRegression\n",
    "%matplotlib inline"
   ]
  },
  {
   "cell_type": "markdown",
   "id": "embedded-picture",
   "metadata": {},
   "source": [
    "### Working with the data:"
   ]
  },
  {
   "cell_type": "markdown",
   "id": "driven-accommodation",
   "metadata": {},
   "source": [
    "The first step is to load the data we are going to work with. You can download the CSV file from: https://www.epdata.es/evolucion-abstencion-elecciones-generales-celebradas-espana/8732cccd-0519-4f0b-9d47-c0d2231ed29b.\n",
    "After having downloaded it, we did a little formating in Excel, such as changing the language and deleting some text lines, then imported it to Python via pandas read_csv:"
   ]
  },
  {
   "cell_type": "code",
   "execution_count": 2,
   "id": "selective-disclosure",
   "metadata": {},
   "outputs": [
    {
     "data": {
      "text/html": [
       "<div>\n",
       "<style scoped>\n",
       "    .dataframe tbody tr th:only-of-type {\n",
       "        vertical-align: middle;\n",
       "    }\n",
       "\n",
       "    .dataframe tbody tr th {\n",
       "        vertical-align: top;\n",
       "    }\n",
       "\n",
       "    .dataframe thead th {\n",
       "        text-align: right;\n",
       "    }\n",
       "</style>\n",
       "<table border=\"1\" class=\"dataframe\">\n",
       "  <thead>\n",
       "    <tr style=\"text-align: right;\">\n",
       "      <th></th>\n",
       "      <th>Year;Period;Voters Turnout</th>\n",
       "    </tr>\n",
       "  </thead>\n",
       "  <tbody>\n",
       "    <tr>\n",
       "      <th>1979;March;31</th>\n",
       "      <td>96.0</td>\n",
       "    </tr>\n",
       "    <tr>\n",
       "      <th>1982;October;20</th>\n",
       "      <td>3.0</td>\n",
       "    </tr>\n",
       "    <tr>\n",
       "      <th>1986;June;29</th>\n",
       "      <td>7.0</td>\n",
       "    </tr>\n",
       "    <tr>\n",
       "      <th>1989;October;30</th>\n",
       "      <td>7.0</td>\n",
       "    </tr>\n",
       "    <tr>\n",
       "      <th>1993;June;23</th>\n",
       "      <td>6.0</td>\n",
       "    </tr>\n",
       "    <tr>\n",
       "      <th>1996;March;21</th>\n",
       "      <td>92.0</td>\n",
       "    </tr>\n",
       "    <tr>\n",
       "      <th>2000;March;30</th>\n",
       "      <td>NaN</td>\n",
       "    </tr>\n",
       "    <tr>\n",
       "      <th>2004;March;22</th>\n",
       "      <td>74.0</td>\n",
       "    </tr>\n",
       "    <tr>\n",
       "      <th>2008;March;24</th>\n",
       "      <td>65.0</td>\n",
       "    </tr>\n",
       "    <tr>\n",
       "      <th>2011;November;28</th>\n",
       "      <td>29.0</td>\n",
       "    </tr>\n",
       "    <tr>\n",
       "      <th>2015;December;26</th>\n",
       "      <td>8.0</td>\n",
       "    </tr>\n",
       "    <tr>\n",
       "      <th>2016;June;30</th>\n",
       "      <td>17.0</td>\n",
       "    </tr>\n",
       "    <tr>\n",
       "      <th>2019;April;24</th>\n",
       "      <td>25.0</td>\n",
       "    </tr>\n",
       "  </tbody>\n",
       "</table>\n",
       "</div>"
      ],
      "text/plain": [
       "                  Year;Period;Voters Turnout\n",
       "1979;March;31                           96.0\n",
       "1982;October;20                          3.0\n",
       "1986;June;29                             7.0\n",
       "1989;October;30                          7.0\n",
       "1993;June;23                             6.0\n",
       "1996;March;21                           92.0\n",
       "2000;March;30                            NaN\n",
       "2004;March;22                           74.0\n",
       "2008;March;24                           65.0\n",
       "2011;November;28                        29.0\n",
       "2015;December;26                         8.0\n",
       "2016;June;30                            17.0\n",
       "2019;April;24                           25.0"
      ]
     },
     "execution_count": 2,
     "metadata": {},
     "output_type": "execute_result"
    }
   ],
   "source": [
    "# La tasa de Abstencionismo en España\n",
    "\n",
    "Absten = pd.read_csv('C:/Users/Fran/Downloads/evolucion_de_la_abstencio.csv')\n",
    "\n",
    "Absten"
   ]
  },
  {
   "cell_type": "markdown",
   "id": "automatic-mixer",
   "metadata": {},
   "source": [
    "As we can see, we ran the command without specifying the preferences for the CSV reading, so we have this messy format. Let’s establish some conditions:"
   ]
  },
  {
   "cell_type": "code",
   "execution_count": 3,
   "id": "civilian-orlando",
   "metadata": {},
   "outputs": [
    {
     "data": {
      "text/html": [
       "<div>\n",
       "<style scoped>\n",
       "    .dataframe tbody tr th:only-of-type {\n",
       "        vertical-align: middle;\n",
       "    }\n",
       "\n",
       "    .dataframe tbody tr th {\n",
       "        vertical-align: top;\n",
       "    }\n",
       "\n",
       "    .dataframe thead th {\n",
       "        text-align: right;\n",
       "    }\n",
       "</style>\n",
       "<table border=\"1\" class=\"dataframe\">\n",
       "  <thead>\n",
       "    <tr style=\"text-align: right;\">\n",
       "      <th></th>\n",
       "      <th>Year</th>\n",
       "      <th>Period</th>\n",
       "      <th>Voters Turnout</th>\n",
       "    </tr>\n",
       "  </thead>\n",
       "  <tbody>\n",
       "    <tr>\n",
       "      <th>0</th>\n",
       "      <td>1979</td>\n",
       "      <td>March</td>\n",
       "      <td>31,96</td>\n",
       "    </tr>\n",
       "    <tr>\n",
       "      <th>1</th>\n",
       "      <td>1982</td>\n",
       "      <td>October</td>\n",
       "      <td>20,03</td>\n",
       "    </tr>\n",
       "    <tr>\n",
       "      <th>2</th>\n",
       "      <td>1986</td>\n",
       "      <td>June</td>\n",
       "      <td>29,07</td>\n",
       "    </tr>\n",
       "    <tr>\n",
       "      <th>3</th>\n",
       "      <td>1989</td>\n",
       "      <td>October</td>\n",
       "      <td>30,07</td>\n",
       "    </tr>\n",
       "    <tr>\n",
       "      <th>4</th>\n",
       "      <td>1993</td>\n",
       "      <td>June</td>\n",
       "      <td>23,06</td>\n",
       "    </tr>\n",
       "    <tr>\n",
       "      <th>5</th>\n",
       "      <td>1996</td>\n",
       "      <td>March</td>\n",
       "      <td>21,92</td>\n",
       "    </tr>\n",
       "    <tr>\n",
       "      <th>6</th>\n",
       "      <td>2000</td>\n",
       "      <td>March</td>\n",
       "      <td>30</td>\n",
       "    </tr>\n",
       "    <tr>\n",
       "      <th>7</th>\n",
       "      <td>2004</td>\n",
       "      <td>March</td>\n",
       "      <td>22,74</td>\n",
       "    </tr>\n",
       "    <tr>\n",
       "      <th>8</th>\n",
       "      <td>2008</td>\n",
       "      <td>March</td>\n",
       "      <td>24,65</td>\n",
       "    </tr>\n",
       "    <tr>\n",
       "      <th>9</th>\n",
       "      <td>2011</td>\n",
       "      <td>November</td>\n",
       "      <td>28,29</td>\n",
       "    </tr>\n",
       "    <tr>\n",
       "      <th>10</th>\n",
       "      <td>2015</td>\n",
       "      <td>December</td>\n",
       "      <td>26,8</td>\n",
       "    </tr>\n",
       "    <tr>\n",
       "      <th>11</th>\n",
       "      <td>2016</td>\n",
       "      <td>June</td>\n",
       "      <td>30,17</td>\n",
       "    </tr>\n",
       "    <tr>\n",
       "      <th>12</th>\n",
       "      <td>2019</td>\n",
       "      <td>April</td>\n",
       "      <td>24,25</td>\n",
       "    </tr>\n",
       "  </tbody>\n",
       "</table>\n",
       "</div>"
      ],
      "text/plain": [
       "    Year    Period Voters Turnout\n",
       "0   1979     March          31,96\n",
       "1   1982   October          20,03\n",
       "2   1986      June          29,07\n",
       "3   1989   October          30,07\n",
       "4   1993      June          23,06\n",
       "5   1996     March          21,92\n",
       "6   2000     March             30\n",
       "7   2004     March          22,74\n",
       "8   2008     March          24,65\n",
       "9   2011  November          28,29\n",
       "10  2015  December           26,8\n",
       "11  2016      June          30,17\n",
       "12  2019     April          24,25"
      ]
     },
     "execution_count": 3,
     "metadata": {},
     "output_type": "execute_result"
    }
   ],
   "source": [
    "Absten = pd.read_csv('C:/Users/Fran/Downloads/evolucion_de_la_abstencio.csv', header = 0, delimiter= ';', index_col=None)\n",
    "\n",
    "Absten"
   ]
  },
  {
   "cell_type": "markdown",
   "id": "damaged-funeral",
   "metadata": {},
   "source": [
    "The voters turnout is the total of the participation, so we will also change the column’s name for “Abstention” in order to make it more comprehensive:"
   ]
  },
  {
   "cell_type": "code",
   "execution_count": 4,
   "id": "greek-marriage",
   "metadata": {},
   "outputs": [
    {
     "data": {
      "text/html": [
       "<div>\n",
       "<style scoped>\n",
       "    .dataframe tbody tr th:only-of-type {\n",
       "        vertical-align: middle;\n",
       "    }\n",
       "\n",
       "    .dataframe tbody tr th {\n",
       "        vertical-align: top;\n",
       "    }\n",
       "\n",
       "    .dataframe thead th {\n",
       "        text-align: right;\n",
       "    }\n",
       "</style>\n",
       "<table border=\"1\" class=\"dataframe\">\n",
       "  <thead>\n",
       "    <tr style=\"text-align: right;\">\n",
       "      <th></th>\n",
       "      <th>Year</th>\n",
       "      <th>Period</th>\n",
       "      <th>Abstention</th>\n",
       "    </tr>\n",
       "  </thead>\n",
       "  <tbody>\n",
       "    <tr>\n",
       "      <th>0</th>\n",
       "      <td>1979</td>\n",
       "      <td>March</td>\n",
       "      <td>31,96</td>\n",
       "    </tr>\n",
       "    <tr>\n",
       "      <th>1</th>\n",
       "      <td>1982</td>\n",
       "      <td>October</td>\n",
       "      <td>20,03</td>\n",
       "    </tr>\n",
       "    <tr>\n",
       "      <th>2</th>\n",
       "      <td>1986</td>\n",
       "      <td>June</td>\n",
       "      <td>29,07</td>\n",
       "    </tr>\n",
       "    <tr>\n",
       "      <th>3</th>\n",
       "      <td>1989</td>\n",
       "      <td>October</td>\n",
       "      <td>30,07</td>\n",
       "    </tr>\n",
       "    <tr>\n",
       "      <th>4</th>\n",
       "      <td>1993</td>\n",
       "      <td>June</td>\n",
       "      <td>23,06</td>\n",
       "    </tr>\n",
       "    <tr>\n",
       "      <th>5</th>\n",
       "      <td>1996</td>\n",
       "      <td>March</td>\n",
       "      <td>21,92</td>\n",
       "    </tr>\n",
       "    <tr>\n",
       "      <th>6</th>\n",
       "      <td>2000</td>\n",
       "      <td>March</td>\n",
       "      <td>30</td>\n",
       "    </tr>\n",
       "    <tr>\n",
       "      <th>7</th>\n",
       "      <td>2004</td>\n",
       "      <td>March</td>\n",
       "      <td>22,74</td>\n",
       "    </tr>\n",
       "    <tr>\n",
       "      <th>8</th>\n",
       "      <td>2008</td>\n",
       "      <td>March</td>\n",
       "      <td>24,65</td>\n",
       "    </tr>\n",
       "    <tr>\n",
       "      <th>9</th>\n",
       "      <td>2011</td>\n",
       "      <td>November</td>\n",
       "      <td>28,29</td>\n",
       "    </tr>\n",
       "    <tr>\n",
       "      <th>10</th>\n",
       "      <td>2015</td>\n",
       "      <td>December</td>\n",
       "      <td>26,8</td>\n",
       "    </tr>\n",
       "    <tr>\n",
       "      <th>11</th>\n",
       "      <td>2016</td>\n",
       "      <td>June</td>\n",
       "      <td>30,17</td>\n",
       "    </tr>\n",
       "    <tr>\n",
       "      <th>12</th>\n",
       "      <td>2019</td>\n",
       "      <td>April</td>\n",
       "      <td>24,25</td>\n",
       "    </tr>\n",
       "  </tbody>\n",
       "</table>\n",
       "</div>"
      ],
      "text/plain": [
       "    Year    Period Abstention\n",
       "0   1979     March      31,96\n",
       "1   1982   October      20,03\n",
       "2   1986      June      29,07\n",
       "3   1989   October      30,07\n",
       "4   1993      June      23,06\n",
       "5   1996     March      21,92\n",
       "6   2000     March         30\n",
       "7   2004     March      22,74\n",
       "8   2008     March      24,65\n",
       "9   2011  November      28,29\n",
       "10  2015  December       26,8\n",
       "11  2016      June      30,17\n",
       "12  2019     April      24,25"
      ]
     },
     "execution_count": 4,
     "metadata": {},
     "output_type": "execute_result"
    }
   ],
   "source": [
    "column_names = Absten.columns.values\n",
    "column_names[2] = \"Abstention\"\n",
    "Absten.columns = column_names\n",
    "Absten"
   ]
  },
  {
   "cell_type": "markdown",
   "id": "banned-interaction",
   "metadata": {},
   "source": [
    "Comprobemos la coherencia de los datos:"
   ]
  },
  {
   "cell_type": "code",
   "execution_count": 5,
   "id": "massive-timeline",
   "metadata": {},
   "outputs": [
    {
     "data": {
      "text/plain": [
       "Year           int64\n",
       "Period        object\n",
       "Abstention    object\n",
       "dtype: object"
      ]
     },
     "execution_count": 5,
     "metadata": {},
     "output_type": "execute_result"
    }
   ],
   "source": [
    "Absten.dtypes"
   ]
  },
  {
   "cell_type": "markdown",
   "id": "continent-roberts",
   "metadata": {},
   "source": [
    "As we can see, we have a column with float numbers which is “object” type, let’s fix that:"
   ]
  },
  {
   "cell_type": "code",
   "execution_count": 6,
   "id": "announced-catch",
   "metadata": {},
   "outputs": [
    {
     "data": {
      "text/html": [
       "<div>\n",
       "<style scoped>\n",
       "    .dataframe tbody tr th:only-of-type {\n",
       "        vertical-align: middle;\n",
       "    }\n",
       "\n",
       "    .dataframe tbody tr th {\n",
       "        vertical-align: top;\n",
       "    }\n",
       "\n",
       "    .dataframe thead th {\n",
       "        text-align: right;\n",
       "    }\n",
       "</style>\n",
       "<table border=\"1\" class=\"dataframe\">\n",
       "  <thead>\n",
       "    <tr style=\"text-align: right;\">\n",
       "      <th></th>\n",
       "      <th>Year</th>\n",
       "      <th>Period</th>\n",
       "      <th>Abstention</th>\n",
       "    </tr>\n",
       "  </thead>\n",
       "  <tbody>\n",
       "    <tr>\n",
       "      <th>0</th>\n",
       "      <td>1979</td>\n",
       "      <td>March</td>\n",
       "      <td>31.96</td>\n",
       "    </tr>\n",
       "    <tr>\n",
       "      <th>1</th>\n",
       "      <td>1982</td>\n",
       "      <td>October</td>\n",
       "      <td>20.03</td>\n",
       "    </tr>\n",
       "    <tr>\n",
       "      <th>2</th>\n",
       "      <td>1986</td>\n",
       "      <td>June</td>\n",
       "      <td>29.07</td>\n",
       "    </tr>\n",
       "    <tr>\n",
       "      <th>3</th>\n",
       "      <td>1989</td>\n",
       "      <td>October</td>\n",
       "      <td>30.07</td>\n",
       "    </tr>\n",
       "    <tr>\n",
       "      <th>4</th>\n",
       "      <td>1993</td>\n",
       "      <td>June</td>\n",
       "      <td>23.06</td>\n",
       "    </tr>\n",
       "    <tr>\n",
       "      <th>5</th>\n",
       "      <td>1996</td>\n",
       "      <td>March</td>\n",
       "      <td>21.92</td>\n",
       "    </tr>\n",
       "    <tr>\n",
       "      <th>6</th>\n",
       "      <td>2000</td>\n",
       "      <td>March</td>\n",
       "      <td>30.00</td>\n",
       "    </tr>\n",
       "    <tr>\n",
       "      <th>7</th>\n",
       "      <td>2004</td>\n",
       "      <td>March</td>\n",
       "      <td>22.74</td>\n",
       "    </tr>\n",
       "    <tr>\n",
       "      <th>8</th>\n",
       "      <td>2008</td>\n",
       "      <td>March</td>\n",
       "      <td>24.65</td>\n",
       "    </tr>\n",
       "    <tr>\n",
       "      <th>9</th>\n",
       "      <td>2011</td>\n",
       "      <td>November</td>\n",
       "      <td>28.29</td>\n",
       "    </tr>\n",
       "    <tr>\n",
       "      <th>10</th>\n",
       "      <td>2015</td>\n",
       "      <td>December</td>\n",
       "      <td>26.80</td>\n",
       "    </tr>\n",
       "    <tr>\n",
       "      <th>11</th>\n",
       "      <td>2016</td>\n",
       "      <td>June</td>\n",
       "      <td>30.17</td>\n",
       "    </tr>\n",
       "    <tr>\n",
       "      <th>12</th>\n",
       "      <td>2019</td>\n",
       "      <td>April</td>\n",
       "      <td>24.25</td>\n",
       "    </tr>\n",
       "  </tbody>\n",
       "</table>\n",
       "</div>"
      ],
      "text/plain": [
       "    Year    Period  Abstention\n",
       "0   1979     March       31.96\n",
       "1   1982   October       20.03\n",
       "2   1986      June       29.07\n",
       "3   1989   October       30.07\n",
       "4   1993      June       23.06\n",
       "5   1996     March       21.92\n",
       "6   2000     March       30.00\n",
       "7   2004     March       22.74\n",
       "8   2008     March       24.65\n",
       "9   2011  November       28.29\n",
       "10  2015  December       26.80\n",
       "11  2016      June       30.17\n",
       "12  2019     April       24.25"
      ]
     },
     "execution_count": 6,
     "metadata": {},
     "output_type": "execute_result"
    }
   ],
   "source": [
    "# First we replace the coma for a point, as float don't recognize the coma as decimal separation. Then we convert it to float:\n",
    "\n",
    "Absten['Abstention'] = [float(x.replace(',','.')) for x in Absten['Abstention']]\n",
    "\n",
    "Absten"
   ]
  },
  {
   "cell_type": "markdown",
   "id": "tribal-market",
   "metadata": {},
   "source": [
    "Let’s check the correction:"
   ]
  },
  {
   "cell_type": "code",
   "execution_count": 7,
   "id": "mobile-boring",
   "metadata": {
    "scrolled": true
   },
   "outputs": [
    {
     "data": {
      "text/plain": [
       "Year            int64\n",
       "Period         object\n",
       "Abstention    float64\n",
       "dtype: object"
      ]
     },
     "execution_count": 7,
     "metadata": {},
     "output_type": "execute_result"
    }
   ],
   "source": [
    "Absten.dtypes"
   ]
  },
  {
   "cell_type": "markdown",
   "id": "italian-penguin",
   "metadata": {},
   "source": [
    "Finally, we are going to work with the year and the abstention rate, so we can drop the “Period” column:"
   ]
  },
  {
   "cell_type": "code",
   "execution_count": 8,
   "id": "drawn-philippines",
   "metadata": {},
   "outputs": [
    {
     "data": {
      "text/html": [
       "<div>\n",
       "<style scoped>\n",
       "    .dataframe tbody tr th:only-of-type {\n",
       "        vertical-align: middle;\n",
       "    }\n",
       "\n",
       "    .dataframe tbody tr th {\n",
       "        vertical-align: top;\n",
       "    }\n",
       "\n",
       "    .dataframe thead th {\n",
       "        text-align: right;\n",
       "    }\n",
       "</style>\n",
       "<table border=\"1\" class=\"dataframe\">\n",
       "  <thead>\n",
       "    <tr style=\"text-align: right;\">\n",
       "      <th></th>\n",
       "      <th>Year</th>\n",
       "      <th>Abstention</th>\n",
       "    </tr>\n",
       "  </thead>\n",
       "  <tbody>\n",
       "    <tr>\n",
       "      <th>0</th>\n",
       "      <td>1979</td>\n",
       "      <td>31.96</td>\n",
       "    </tr>\n",
       "    <tr>\n",
       "      <th>1</th>\n",
       "      <td>1982</td>\n",
       "      <td>20.03</td>\n",
       "    </tr>\n",
       "    <tr>\n",
       "      <th>2</th>\n",
       "      <td>1986</td>\n",
       "      <td>29.07</td>\n",
       "    </tr>\n",
       "    <tr>\n",
       "      <th>3</th>\n",
       "      <td>1989</td>\n",
       "      <td>30.07</td>\n",
       "    </tr>\n",
       "    <tr>\n",
       "      <th>4</th>\n",
       "      <td>1993</td>\n",
       "      <td>23.06</td>\n",
       "    </tr>\n",
       "    <tr>\n",
       "      <th>5</th>\n",
       "      <td>1996</td>\n",
       "      <td>21.92</td>\n",
       "    </tr>\n",
       "    <tr>\n",
       "      <th>6</th>\n",
       "      <td>2000</td>\n",
       "      <td>30.00</td>\n",
       "    </tr>\n",
       "    <tr>\n",
       "      <th>7</th>\n",
       "      <td>2004</td>\n",
       "      <td>22.74</td>\n",
       "    </tr>\n",
       "    <tr>\n",
       "      <th>8</th>\n",
       "      <td>2008</td>\n",
       "      <td>24.65</td>\n",
       "    </tr>\n",
       "    <tr>\n",
       "      <th>9</th>\n",
       "      <td>2011</td>\n",
       "      <td>28.29</td>\n",
       "    </tr>\n",
       "    <tr>\n",
       "      <th>10</th>\n",
       "      <td>2015</td>\n",
       "      <td>26.80</td>\n",
       "    </tr>\n",
       "    <tr>\n",
       "      <th>11</th>\n",
       "      <td>2016</td>\n",
       "      <td>30.17</td>\n",
       "    </tr>\n",
       "    <tr>\n",
       "      <th>12</th>\n",
       "      <td>2019</td>\n",
       "      <td>24.25</td>\n",
       "    </tr>\n",
       "  </tbody>\n",
       "</table>\n",
       "</div>"
      ],
      "text/plain": [
       "    Year  Abstention\n",
       "0   1979       31.96\n",
       "1   1982       20.03\n",
       "2   1986       29.07\n",
       "3   1989       30.07\n",
       "4   1993       23.06\n",
       "5   1996       21.92\n",
       "6   2000       30.00\n",
       "7   2004       22.74\n",
       "8   2008       24.65\n",
       "9   2011       28.29\n",
       "10  2015       26.80\n",
       "11  2016       30.17\n",
       "12  2019       24.25"
      ]
     },
     "execution_count": 8,
     "metadata": {},
     "output_type": "execute_result"
    }
   ],
   "source": [
    "AbstenYearRate = Absten.drop(Absten.columns[[1]], axis='columns')\n",
    "\n",
    "AbstenYearRate"
   ]
  },
  {
   "cell_type": "markdown",
   "id": "upset-gibraltar",
   "metadata": {},
   "source": [
    "Once we have processed and cleaned the frame, we can find, for example, the mean abstention rate over the last 40 years, the standard deviation for this variable or the years in which there is more or less voters turnout:"
   ]
  },
  {
   "cell_type": "code",
   "execution_count": 9,
   "id": "reserved-minutes",
   "metadata": {
    "scrolled": true
   },
   "outputs": [
    {
     "data": {
      "text/plain": [
       "count    13.000000\n",
       "mean     26.385385\n",
       "std       3.822054\n",
       "min      20.030000\n",
       "25%      23.060000\n",
       "50%      26.800000\n",
       "75%      30.000000\n",
       "max      31.960000\n",
       "Name: Abstention, dtype: float64"
      ]
     },
     "execution_count": 9,
     "metadata": {},
     "output_type": "execute_result"
    }
   ],
   "source": [
    "# Statistical Values for the abstention from 1979 to 2019:\n",
    "\n",
    "AbstenYearRate['Abstention'].describe()"
   ]
  },
  {
   "cell_type": "code",
   "execution_count": 10,
   "id": "mobile-bracket",
   "metadata": {},
   "outputs": [
    {
     "data": {
      "text/plain": [
       "Abstention\n",
       "20.03    1982\n",
       "21.92    1996\n",
       "22.74    2004\n",
       "23.06    1993\n",
       "24.25    2019\n",
       "24.65    2008\n",
       "26.80    2015\n",
       "28.29    2011\n",
       "29.07    1986\n",
       "30.00    2000\n",
       "30.07    1989\n",
       "30.17    2016\n",
       "31.96    1979\n",
       "Name: Year, dtype: int64"
      ]
     },
     "execution_count": 10,
     "metadata": {},
     "output_type": "execute_result"
    }
   ],
   "source": [
    "# Let's order the years by abstention rate:\n",
    "\n",
    "AbstenYearRate.groupby(['Abstention'], sort=True)['Year'].max()"
   ]
  },
  {
   "cell_type": "markdown",
   "id": "flush-lincoln",
   "metadata": {},
   "source": [
    "We have obtained that the mean abstention rate for this 40 years has been 26,39% of the census, with a standard deviation of the 3% for the observed period.\n",
    "\n",
    "Concerning the maximum values, we find the highest rate in 1979 (32%), 2016 (30,2%), 1989 (30,1%) and 2000 (30%). In the minimum values we find that the lowest abstention rate was in the 1982 elections with a 20% of abstention, followed by 1996 (22%), 2004 (22,7%) and 1993 (23,1%)."
   ]
  },
  {
   "cell_type": "markdown",
   "id": "tracked-foster",
   "metadata": {},
   "source": [
    "Now let’s plot the frame into a line graph in order to better understand the results. In addittion, we will try to identify some potential pattern or tendence:"
   ]
  },
  {
   "cell_type": "code",
   "execution_count": 11,
   "id": "searching-baker",
   "metadata": {},
   "outputs": [
    {
     "data": {
      "image/png": "[encoded data removed]",
      "text/plain": [
       "<Figure size 1008x576 with 1 Axes>"
      ]
     },
     "metadata": {
      "needs_background": "light"
     },
     "output_type": "display_data"
    }
   ],
   "source": [
    "graf1 = AbstenYearRate.plot(x = 'Year', y = 'Abstention', kind='line', figsize=(14, 8), color='#8EEB8B', linewidth = '5', marker ='o',\n",
    "                       mew = 3, mfc='#6BD567', ms = 15, label= \"Abstention Rate/Year\")\n",
    "\n",
    "\n",
    "plt.ylim([0,50])\n",
    "\n",
    "plt.title('Abstention Rate 1979 - 2019')\n",
    "plt.ylabel('Percentaje')\n",
    "plt.xlabel('Year')\n",
    "\n",
    "plt.show()"
   ]
  },
  {
   "cell_type": "markdown",
   "id": "graphic-jaguar",
   "metadata": {},
   "source": [
    "A priori, we can see that there is a slight cyclical behaviour, if there has been a high abstention rate, it will decrease in the following elections and viceversa. However, we can notice how in the 1989 elections the abstention rised despite it has increased in the previous voting. The same happens for the 1996 elections, where the abstention rate was lower than the above elections although it was already declining.\n",
    "\n",
    "From the 21th century, we can tell that the 2000 and 2016 elections had a high abstention rate, in fact, as we see, the abstention rate follows an increasing tendance from 2007 to 2019, where it drops to 24%, 2 points under the mean.\n",
    "\n",
    "In the following part of the article we will analyse the use of new technologies in Spain, and in the final part we will set the conclutions of this report and the possibility of a relation between the two variables, nonetheless, as a previous reflexion, we could suggest that the abstention rate has an increasing tendance from 2007, year in which the using of new tecnologies and internet in most of the spanish homes started to be normal.\n",
    "\n"
   ]
  },
  {
   "cell_type": "markdown",
   "id": "accepting-shelter",
   "metadata": {},
   "source": [
    "## Part II. Analyzing the evolution of the ICTs in Spain:"
   ]
  },
  {
   "cell_type": "markdown",
   "id": "dangerous-russia",
   "metadata": {},
   "source": [
    "In the previous part of this article, we have analysed the voters turnout in Spain. By using Python language, we calculated the mean Abstention Rate from 1979 to 2019 and we plotted the data frame in order to identify potential patterns and other behaviours in the graph, concluding that there's a slight cyclical behaviour and that for the last 6 elections (2007 - 2019) the mean Abstention Rate has increased.\n",
    "\n",
    "Now we are going to make it a little more difficult: we will extract, format and parse data from multiple sources with the purpose of getting an insight of the situation and the evolution of Information and Comunication Technologies in Spain. We will work with data from the AIMC and the INE: \n",
    "\n",
    "From the AIMC we will download the PDF \"Marco General de los Medios en España - 2021\", where we can find an evolution of the frequency of use of new ICTs. As you may have guessed, we are going to extract tables from a PDF in order to analyse it:\n",
    "\n",
    "   https://www.aimc.es/a1mc-c0nt3nt/uploads/2021/02/marco2021.pdf\n",
    "\n",
    "\n",
    "From the INE we are going to work with different tables in order to complementate the AIMC's analysis:\n",
    "   \n",
    "   - Level of confidence in Internet in the last 3 months:  https://www.ine.es/jaxi/Datos.htm?tpx=39519#!tabs-tabla\n",
    "     \n",
    "   - Level of confidence in Internet in the last 12 months by socioeconomic features:  https://ine.es/jaxi/Datos.htm?path=/t25/p450/base_2011/a2019/l0/&file=04026.px\n",
    "     \n",
    "   - Evolution (2006-2020) by Autonomous Region, ICT type of use and period:  https://www.ine.es/jaxi/Datos.htm?tpx=39484\n",
    "   \n",
    "So we have the sources and we have the data... We can start!"
   ]
  },
  {
   "cell_type": "markdown",
   "id": "level-former",
   "metadata": {},
   "source": [
    "First of all, with the object of understanding the evolution of the ICTs implementation in Spain we are going to convert the table called \"EVOLUCIÓN DE LA AUDIENCIA GENERAL DE LOS MEDIOS - 1980-2020\" from PDF's page 13 using the tabula method. As you can check, this table has an evolution of the audience penetration for each media from the mentioned period:"
   ]
  },
  {
   "cell_type": "code",
   "execution_count": 12,
   "id": "unique-intranet",
   "metadata": {},
   "outputs": [
    {
     "name": "stderr",
     "output_type": "stream",
     "text": [
      "openjdk version \"1.8.0_292\"\n",
      "OpenJDK Runtime Environment (AdoptOpenJDK)(build 1.8.0_292-b10)\n",
      "OpenJDK 64-Bit Server VM (AdoptOpenJDK)(build 25.292-b10, mixed mode)\n"
     ]
    }
   ],
   "source": [
    "!java -version"
   ]
  },
  {
   "cell_type": "code",
   "execution_count": 13,
   "id": "improved-response",
   "metadata": {},
   "outputs": [
    {
     "name": "stderr",
     "output_type": "stream",
     "text": [
      "WARNING: You are using pip version 21.0.1; however, version 21.1.2 is available.\n",
      "You should consider upgrading via the 'c:\\users\\fran\\appdata\\local\\programs\\python\\python39\\python.exe -m pip install --upgrade pip' command.\n"
     ]
    }
   ],
   "source": [
    "!pip install -q tabula-py"
   ]
  },
  {
   "cell_type": "code",
   "execution_count": null,
   "id": "julian-active",
   "metadata": {
    "scrolled": true
   },
   "outputs": [],
   "source": [
    "import tabula\n",
    "\n",
    "pdf_path = \"https://www.aimc.es/a1mc-c0nt3nt/uploads/2021/02/marco2021.pdf\"\n",
    "\n",
    "aud_pen = tabula.read_pdf(pdf_path, pages=\"13\", pandas_options={'header': None }, output_format=\"dataframe\")\n",
    "\n",
    "aud_pen"
   ]
  },
  {
   "cell_type": "markdown",
   "id": "social-diamond",
   "metadata": {},
   "source": [
    "We have obtained a raw list which must be formated into a data frame in order to make it comprenhensive. We must rename the columns and replace the NaN values by a 0:"
   ]
  },
  {
   "cell_type": "code",
   "execution_count": null,
   "id": "cellular-instrument",
   "metadata": {
    "scrolled": false
   },
   "outputs": [],
   "source": [
    "# We format into a data frame \n",
    "\n",
    "ap_df = aud_pen[0]\n",
    "\n",
    "ap_df.head()"
   ]
  },
  {
   "cell_type": "code",
   "execution_count": null,
   "id": "organizational-error",
   "metadata": {},
   "outputs": [],
   "source": [
    "# Let's establish the column's name and set 'Year' as index and remove the (*) from 1980 and 1981 and:\n",
    "\n",
    "print('Before change', ap_df.columns)\n",
    "\n",
    "ap_df.columns = ['Year', 'Sample', 'Newspapers', 'Supplements', 'Magazines', 'Total Radio', 'Mainstream Radio', 'Thematic Radio', 'MW', 'FM', 'Internet Radio', 'DigTV Radio', 'TV', 'Cinema', 'Internet Last 30 days', 'Internet Last Day', 'Outdoor Advertising']\n",
    "\n",
    "print('After change', ap_df.columns)"
   ]
  },
  {
   "cell_type": "code",
   "execution_count": null,
   "id": "bigger-settlement",
   "metadata": {},
   "outputs": [],
   "source": [
    "ap_df.loc[0, 'Year'] = '1980'\n",
    "ap_df.loc[1, 'Year'] = '1981'"
   ]
  },
  {
   "cell_type": "code",
   "execution_count": null,
   "id": "documentary-strip",
   "metadata": {},
   "outputs": [],
   "source": [
    "ap_df = ap_df.set_index('Year')"
   ]
  },
  {
   "cell_type": "code",
   "execution_count": null,
   "id": "bearing-island",
   "metadata": {},
   "outputs": [],
   "source": [
    "# Let's replace the NaN values by 0:\n",
    "\n",
    "ap_df = ap_df.fillna(0)\n",
    "\n",
    "ap_df.head()"
   ]
  },
  {
   "cell_type": "markdown",
   "id": "acknowledged-finish",
   "metadata": {},
   "source": [
    "To make it more clear let's also erase some columns that we are not going to use:"
   ]
  },
  {
   "cell_type": "code",
   "execution_count": null,
   "id": "aggregate-catalog",
   "metadata": {},
   "outputs": [],
   "source": [
    "ap_df = ap_df.drop(['Sample', 'Mainstream Radio', 'Thematic Radio', 'MW', 'FM', 'Internet Radio', 'DigTV Radio', 'Cinema'], axis=1)\n",
    "\n",
    "ap_df.head()"
   ]
  },
  {
   "cell_type": "markdown",
   "id": "comfortable-accordance",
   "metadata": {},
   "source": [
    "All right! That's a nice DataFrame!\n",
    "\n",
    "Let's plot it in order to better understand the evolution of the penetration rate of each media in the reporting period. First let's check the data type:"
   ]
  },
  {
   "cell_type": "code",
   "execution_count": null,
   "id": "several-testing",
   "metadata": {},
   "outputs": [],
   "source": [
    "ap_df.dtypes"
   ]
  },
  {
   "cell_type": "markdown",
   "id": "burning-latex",
   "metadata": {},
   "source": [
    "All the data types are 'object' type, let's fix that. \n",
    "\n",
    "As we saw in the last article, first we have to replace the comma for a point so that it will be recognizable for the astype function."
   ]
  },
  {
   "cell_type": "code",
   "execution_count": null,
   "id": "scheduled-bunny",
   "metadata": {},
   "outputs": [],
   "source": [
    "ap_df = ap_df.apply(lambda x: x.str.replace(',','.'))"
   ]
  },
  {
   "cell_type": "code",
   "execution_count": null,
   "id": "center-accused",
   "metadata": {},
   "outputs": [],
   "source": [
    "ap_df = ap_df.astype(float)"
   ]
  },
  {
   "cell_type": "code",
   "execution_count": null,
   "id": "crucial-aaron",
   "metadata": {},
   "outputs": [],
   "source": [
    "ap_df.dtypes"
   ]
  },
  {
   "cell_type": "code",
   "execution_count": null,
   "id": "working-poker",
   "metadata": {},
   "outputs": [],
   "source": [
    "ap_df = ap_df.fillna(0)\n",
    "\n",
    "ap_df"
   ]
  },
  {
   "cell_type": "markdown",
   "id": "placed-fiction",
   "metadata": {},
   "source": [
    "Done! Let's make the graphic:"
   ]
  },
  {
   "cell_type": "code",
   "execution_count": null,
   "id": "published-affiliation",
   "metadata": {},
   "outputs": [],
   "source": [
    "ap_df.plot(kind='line', figsize=(20, 10), linewidth = '10', fontsize='15')\n",
    "\n",
    "plt.title('Audience Penetration in Spain by Year and Media 1980 - 2020', fontsize=30)\n",
    "\n",
    "plt.ylabel('Percentage', fontsize=25)\n",
    "plt.xlabel('Years', fontsize =25)\n",
    "\n",
    "plt.legend(bbox_to_anchor=(1.0, 0.42), fontsize='xx-large')\n",
    "plt.xlim(0, 40.0)\n",
    "axes1 = plt.axes()\n",
    "\n",
    "axes1.spines['top'].set_visible(False)\n",
    "\n",
    "\n",
    "plt.show()"
   ]
  },
  {
   "cell_type": "markdown",
   "id": "transparent-agenda",
   "metadata": {},
   "source": [
    "Analysing the graph, we are witnesses of how the written press has indeed decreased in recent times. For newspapers, we can see how it declines from a value near 41% to its final value of 18% for the household broadband penetration from the last 15 years. The same behaviour is shown by the other written press variables. The consumption values for magazines and supplements have declined from 53% to 26% for the first one, and from 28% to 6% for the second one for the period between 2005 and 2020.\n",
    "\n",
    "We can say that radio and TV have been the kings of mass media in the 20th century and, as we see in the line graph, its values have remained nearly stable from 1980 to 2020. Indeed for the last 15 years the TV consumption has only decreased a 3% (85% for 2020) and the radio has even increased from 2005 to 2012, year in which reaches its maximum value since 1982. After 2012 it decrases from 62% to 56% in 2020.\n",
    "\n",
    "Regarding the object of this report, we can see how effectively the new ICTs have supposed a real \"boom\" in our households. From almost residual values at the end of the century, we can see how the consumption of internet has increased in a nearly exponential way. In the last 15 years, the households which used internet in the last 30 days increased from 34% in 2005 to 85% in 2020, and those who used internet in the last day raised from 20% in 2005 to 81% in 2020.\n",
    "\n",
    "Finally, we can see how the value Outdoor Advertising, which corresponds with any advertising done outdoors that publicizes products and services, begins to be measured from the year 2006. Starting from 51% it has raised 29 percentage points in 15 years, settling in 80% for 2020."
   ]
  },
  {
   "cell_type": "markdown",
   "id": "humanitarian-practitioner",
   "metadata": {},
   "source": [
    "Since the ICT concept includes the influence of the use of internet and new technologies in the comunication process, medias as written press can be eliminated from the analysis. For the radio, albeit nowadays it can be played online, we will consider it traditional media. By its adaptation to the digital technologies, we can consider the TV as ICT too, so let's see a detail view of this evolution by chosing the appropiate columns:"
   ]
  },
  {
   "cell_type": "code",
   "execution_count": null,
   "id": "ongoing-project",
   "metadata": {},
   "outputs": [],
   "source": [
    "# As we start to have information for the values in 1996 let's eliminate the previous years too:\n",
    "\n",
    "ICT_df = ap_df.iloc[15:41]\n",
    "\n",
    "ICT_df = ICT_df.loc[:,['TV','Internet Last 30 days','Internet Last Day','Outdoor Advertising']]\n",
    "\n",
    "ICT_df"
   ]
  },
  {
   "cell_type": "code",
   "execution_count": null,
   "id": "inside-berkeley",
   "metadata": {
    "scrolled": false
   },
   "outputs": [],
   "source": [
    "# Let's choose some nice colours:\n",
    "\n",
    "barcolours = ['#D4E6F1','#7FB3D5','#ABEBC6','#117864']\n",
    "\n",
    "# Plotting:\n",
    "\n",
    "ICT_df.plot(kind='bar',figsize=(22,10), width = 1.1, fontsize='15', color= barcolours)\n",
    "\n",
    "plt.title('ICTs Household Penetration Rate in Spain 1995 - 2020', fontsize= 30)\n",
    "plt.ylabel('%', fontsize=25)\n",
    "plt.xlabel('Years', fontsize =25)\n",
    "\n",
    "plt.legend(bbox_to_anchor=(1.0, 0.9), fontsize='xx-large')\n",
    "\n",
    "axes = plt.axes()\n",
    "\n",
    "axes.spines['top'].set_visible(False)\n",
    "axes.spines['right'].set_visible(False)\n",
    "\n",
    "\n",
    "\n",
    "plt.show()"
   ]
  },
  {
   "cell_type": "markdown",
   "id": "apparent-fleece",
   "metadata": {},
   "source": [
    "That's a nice way to represent the influence of the ICTs in our homes!"
   ]
  },
  {
   "cell_type": "markdown",
   "id": "organic-manner",
   "metadata": {},
   "source": [
    "## Part III. Analyzing the correlation between the Abstention Rate and the barrage of the New Information Technologies and stating conclusions."
   ]
  },
  {
   "cell_type": "markdown",
   "id": "dense-principal",
   "metadata": {},
   "source": [
    "That’s it! We arrived at the last part of this analysis. If you have reached this point, let me congratulate you!\n",
    "\n",
    "In the last two articles we have analysed the evolution of voters turnout in Spain and the influence of the ICTs in the spanish households. Now we are going to find out if there is a relation between the two variables using a statistical model as correlation is."
   ]
  },
  {
   "cell_type": "markdown",
   "id": "other-whale",
   "metadata": {},
   "source": [
    "First of all, let's us recall the dataframes we are going to work with:"
   ]
  },
  {
   "cell_type": "code",
   "execution_count": null,
   "id": "sunset-ireland",
   "metadata": {
    "scrolled": false
   },
   "outputs": [],
   "source": [
    "# By one hand we are going to work with the abstention table:\n",
    "\n",
    "AbstenYearRate\n"
   ]
  },
  {
   "cell_type": "code",
   "execution_count": null,
   "id": "affecting-effect",
   "metadata": {},
   "outputs": [],
   "source": [
    "print(AbstenYearRate.shape)"
   ]
  },
  {
   "cell_type": "code",
   "execution_count": null,
   "id": "magnetic-maker",
   "metadata": {},
   "outputs": [],
   "source": [
    "# By the other hand, we have the ICTs Household Penetration Rate:\n",
    "\n",
    "ICT_df.head(10)"
   ]
  },
  {
   "cell_type": "code",
   "execution_count": null,
   "id": "agreed-gross",
   "metadata": {},
   "outputs": [],
   "source": [
    "print(ICT_df.shape)"
   ]
  },
  {
   "cell_type": "markdown",
   "id": "selective-fundamental",
   "metadata": {},
   "source": [
    "So, can you notice if there is any problem with these data tables?\n",
    "\n",
    "Effectively, we still have some formatting problems. As you may understand, since the elections is an every four-years event, we have less data entries for the abstention table (one by election year) than the ICTs table. Furthermore, as the ICTs are something relatively new, we start to have data entries from 1995 onwards, while the abstention set starts in 1979…\n",
    "\n",
    "Those differences between tables leads us to a typical data analysis problem that we will repeatedly find over our career: Which is the better method for a good accuracy?\n",
    "\n",
    "Indeed, you can choose among plenty of paths to resolve this kind of problem. For example, you can make a cluster for every 4 years in the ICTs table with the mean values for each 4 years, you can calculate manually and load it in a new frame, etc. If you are lucky enough to work in a team, this kind of decision may normally be taken among all the project’s crew.\n",
    "\n",
    "In this case, as I want to make an easy example, I’ve chosen the simplest way, which is to work with the respective years in each table."
   ]
  },
  {
   "cell_type": "code",
   "execution_count": null,
   "id": "incredible-gentleman",
   "metadata": {},
   "outputs": [],
   "source": [
    "# Lets drop all the years that we aren't going to use\n",
    "\n",
    "ICTAbs = ICT_df.drop(ICT_df.index[[0,2,3,4,6,7,8,10,11,12,14,15,17,18,19,22,23,25]]).reset_index()\n",
    "\n",
    "ICTAbs"
   ]
  },
  {
   "cell_type": "code",
   "execution_count": null,
   "id": "actual-abraham",
   "metadata": {},
   "outputs": [],
   "source": [
    "# And fot the abstention set, let's eliminate all the previous years from 1996 and keep only the abstention rates\n",
    "\n",
    "Abstent = AbstenYearRate.iloc[5:13].reset_index().drop(['index', 'Year'], axis=1)\n",
    "\n",
    "Abstent"
   ]
  },
  {
   "cell_type": "markdown",
   "id": "stuffed-michael",
   "metadata": {},
   "source": [
    "Good!"
   ]
  },
  {
   "cell_type": "code",
   "execution_count": null,
   "id": "biblical-pennsylvania",
   "metadata": {
    "scrolled": true
   },
   "outputs": [],
   "source": [
    "# Lets concatenate the two frames\n",
    "\n",
    "ICT_ABS = pd.concat([ICTAbs, Abstent], axis=1)\n",
    "\n",
    "ICT_ABS"
   ]
  },
  {
   "cell_type": "markdown",
   "id": "obvious-association",
   "metadata": {},
   "source": [
    "Let's focus our analysis on the internet and TV use by erasing the 'Outdoor Advertising' column "
   ]
  },
  {
   "cell_type": "code",
   "execution_count": null,
   "id": "regular-engineer",
   "metadata": {},
   "outputs": [],
   "source": [
    "# Let's focus our analysis on the internet and TV use by erasing the 'Outdoor Advertising' column\n",
    "\n",
    "ICT_ABS = ICT_ABS.drop(['Outdoor Advertising'], axis=1).set_index('Year')\n",
    "ICT_ABS"
   ]
  },
  {
   "cell_type": "markdown",
   "id": "discrete-premiere",
   "metadata": {},
   "source": [
    "Now we have a data set containing all the data ready to work with. We are going to analyse if there exists a correlation between each variable and the abstention rate:"
   ]
  },
  {
   "cell_type": "code",
   "execution_count": null,
   "id": "diverse-margin",
   "metadata": {},
   "outputs": [],
   "source": [
    "# Importing the modules:\n",
    "\n",
    "from scipy.stats import pearsonr\n",
    "from sklearn.linear_model import LinearRegression\n",
    "from sklearn.model_selection import train_test_split\n",
    "from sklearn.metrics import r2_score\n",
    "from sklearn.metrics import mean_squared_error\n",
    "\n",
    "import statsmodels.api as sm\n",
    "import statsmodels.formula.api as smf"
   ]
  },
  {
   "cell_type": "code",
   "execution_count": null,
   "id": "unable-trinidad",
   "metadata": {},
   "outputs": [],
   "source": [
    "# Now let's plot the correlation map by using Matplotlib's Pyplot\n",
    "\n",
    "plt.scatter(ICT_ABS.TV, ICT_ABS.Abstention,  color='red')\n",
    "plt.xlabel(\"TV Household Penetration\")\n",
    "plt.ylabel(\"Abstention Rate\")\n",
    "plt.show()\n",
    "\n",
    "# Let's calculate Pearson's Coefficient and the P-value.\n",
    "\n",
    "corr_test = pearsonr(x = ICT_ABS[\"TV\"], y =  ICT_ABS['Abstention'])\n",
    "print(\"Pearson Correlation Coefficient\", corr_test[0])\n",
    "print(\"P-value: \", corr_test[1])"
   ]
  },
  {
   "cell_type": "code",
   "execution_count": null,
   "id": "intellectual-stanford",
   "metadata": {},
   "outputs": [],
   "source": [
    "plt.scatter(ICT_ABS['Internet Last 30 days'], ICT_ABS.Abstention,  color='blue')\n",
    "plt.xlabel(\"Internet last 30 days Household Penetration\")\n",
    "plt.ylabel(\"Abstention Rate\")\n",
    "plt.show()\n",
    "\n",
    "corr_test = pearsonr(x = ICT_ABS['Internet Last 30 days'], y =  ICT_ABS['Abstention'])\n",
    "\n",
    "print(\"Pearson Correlation Coefficient\", corr_test[0])\n",
    "print(\"P-value: \", corr_test[1])"
   ]
  },
  {
   "cell_type": "code",
   "execution_count": null,
   "id": "ranging-birthday",
   "metadata": {},
   "outputs": [],
   "source": [
    "plt.scatter(ICT_ABS['Internet Last Day'], ICT_ABS.Abstention,  color='green')\n",
    "plt.xlabel(\"Internet last day Household Penetration\")\n",
    "plt.ylabel(\"Abstention Rate\")\n",
    "plt.show()\n",
    "\n",
    "corr_test = pearsonr(x = ICT_ABS['Internet Last Day'], y =  ICT_ABS['Abstention'])\n",
    "\n",
    "print(\"Pearson Correlation Coefficient\", corr_test[0])\n",
    "print(\"P-value: \", corr_test[1])"
   ]
  },
  {
   "cell_type": "markdown",
   "id": "underlying-testimony",
   "metadata": {},
   "source": [
    "What conclusions have we obtained after this individual correlation analysis?\n",
    "\n",
    "First of all, the small amount of data that we have, made the analysis less accurate. Although we could have a little approximation, the low correlation values and the high P-values in each of the performed models indicates that the probability of our hypothesis (the voter turnout rises with the higher exposition to the ICTs) to success has a low reliability level.\n",
    "In other words, according to our statistical results, it is more likely that the correlation between our variables is a chance occurrence instead of a possible relation.\n",
    "\n",
    "That said, and emphasizing again the high P-values for each of the correlations, we can see, nevertheless, how there exists a slightly negative correlation between the TV consumption and the abstention rate, i.e, as one variable increases the other one has a little decrease. On the other hand, we can appreciate how there is a slight positive correlation between the abstention rate and the internet consumption (for the last day consumption as well as for the last month consumption), both variables had a gentle trend to increase together.\n",
    "\n",
    "May this be the top of the iceberg that will show us that, effectively, the increase of the ICTs exposure could lead in a rise of political apathy?\n",
    "\n",
    "It would be, of course, excessively presumptuous to try to set a succinct conclusion with the analysed data. We should imagine this survey as a big puzzle to solve from scratch; first we start by adding pieces in order to make the remnants of images, and by putting them together, little by little, we make the whole set. For this purpose, it is ideal to ask ourselves the questions that entails such pieces. For example: Does the people trust in the internet? Where do they read up on the news? Has the political propaganda increased in the net? Which causes there are behind the maximum and minimum values?\n",
    "\n",
    "Throughout the analysis of the relation among the answers to those questions, we would maybe be able to start building a consolidated image of what is behind the voter turnout and the new ICTs effect and, in the future, have a clear answer to our question.\n",
    "\n",
    "And now, which way to go forward? First of all, I would propose to analyse the rest of electoral processes in the country. We have chosen only the presidential election processes, with the consequence of reducing our effective sample size and, by extension, draining its accuracy and reliability. Is for this reason that it would be convenient to repeat the process of this article, but by analysing the evolution of ICTs consumption and voter turnout for each of the regional elections in every autonomous community, so that the possibility of a correlation between both variables can be a little more accurate. Would you like to try this process with the data of your autonomous community?\n",
    "\n",
    "This is how far we have come with our analysis between the abstention rate and the ICTs household consumption in Spain. I would like to thank you so much if you have followed all the process! In order to make it more understandable, I invite you to visit my GitHub and download this Notebook and my other projects: https://github.com/FHERREGON.\n",
    "\n",
    "I hope you’ll enjoy the next articles too!\n",
    "\n",
    "See you soon!\n"
   ]
  }
 ],
 "metadata": {
  "kernelspec": {
   "display_name": "Python 3",
   "language": "python",
   "name": "python3"
  },
  "language_info": {
   "codemirror_mode": {
    "name": "ipython",
    "version": 3
   },
   "file_extension": ".py",
   "mimetype": "text/x-python",
   "name": "python",
   "nbconvert_exporter": "python",
   "pygments_lexer": "ipython3",
   "version": "3.9.2"
  }
 },
 "nbformat": 4,
 "nbformat_minor": 5
}
